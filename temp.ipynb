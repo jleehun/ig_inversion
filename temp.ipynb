{
 "cells": [
  {
   "cell_type": "code",
   "execution_count": 43,
   "metadata": {},
   "outputs": [
    {
     "name": "stdout",
     "output_type": "stream",
     "text": [
      "The autoreload extension is already loaded. To reload it, use:\n",
      "  %reload_ext autoreload\n"
     ]
    }
   ],
   "source": [
    "%load_ext autoreload\n",
    "%autoreload 2\n",
    "\n",
    "import numpy as np\n",
    "\n",
    "import torch\n",
    "import torch.nn as nn\n",
    "import torch.nn.functional as F\n",
    "\n",
    "from ig_pkg.models.generator import *"
   ]
  },
  {
   "cell_type": "code",
   "execution_count": 47,
   "metadata": {},
   "outputs": [
    {
     "name": "stdout",
     "output_type": "stream",
     "text": [
      "torch.Size([1, 3, 256, 256])\n",
      "Optimizing latent representation ...\n"
     ]
    },
    {
     "name": "stderr",
     "output_type": "stream",
     "text": [
      "  4%|▍         | 198/5000 [02:31<1:05:03,  1.23it/s, loss=0.267, step=198]"
     ]
    }
   ],
   "source": [
    "g = Gen_wrapper(name_model='stylegan', \n",
    "                path = '../../pretrained_model/stylegan_cats256.pt',\n",
    "                res = 256, \n",
    "                )\n",
    "\n",
    "latent = g.sample(1)\n",
    "img = g.decode(latent).detach()                \n",
    "print(img.size())\n",
    "zzz = g.encode(img)\n"
   ]
  },
  {
   "cell_type": "code",
   "execution_count": 35,
   "metadata": {},
   "outputs": [
    {
     "data": {
      "text/plain": [
       "tensor([[0., 0.]], requires_grad=True)"
      ]
     },
     "execution_count": 35,
     "metadata": {},
     "output_type": "execute_result"
    }
   ],
   "source": [
    "a = torch.zeros((1, 2))\n",
    "a.requires_grad = True\n",
    "b = a.clone()\n",
    "\n",
    "\n",
    "a"
   ]
  },
  {
   "cell_type": "code",
   "execution_count": 46,
   "metadata": {},
   "outputs": [
    {
     "data": {
      "text/plain": [
       "tensor([[[[ 0.3530,  0.2987,  0.2190,  ..., -1.1093, -0.9544, -0.4312],\n",
       "          [ 0.3147,  0.2448,  0.1837,  ..., -0.9512, -0.8670, -0.8565],\n",
       "          [ 0.1558,  0.1461,  0.1348,  ..., -0.5661, -0.7761, -1.0092],\n",
       "          ...,\n",
       "          [-0.9531, -0.9350, -0.9099,  ...,  0.2413,  0.2652,  0.1721],\n",
       "          [-0.9397, -0.9306, -0.9062,  ...,  0.2487,  0.2615,  0.1595],\n",
       "          [-0.8812, -0.9261, -0.9158,  ...,  0.1640,  0.1392,  0.0133]],\n",
       "\n",
       "         [[ 0.2872,  0.1808,  0.0893,  ..., -0.6282, -0.5379, -0.1320],\n",
       "          [ 0.1956,  0.0903,  0.0208,  ..., -0.5768, -0.4904, -0.5055],\n",
       "          [ 0.0342, -0.0251, -0.0334,  ..., -0.2412, -0.4215, -0.6625],\n",
       "          ...,\n",
       "          [-0.9702, -0.9640, -0.9443,  ..., -0.3301, -0.3429, -0.4050],\n",
       "          [-0.9376, -0.9525, -0.9448,  ..., -0.3533, -0.3744, -0.3948],\n",
       "          [-0.8776, -0.9639, -0.9747,  ..., -0.3931, -0.4115, -0.3884]],\n",
       "\n",
       "         [[ 0.0941,  0.0024, -0.0772,  ..., -0.7620, -0.6474, -0.2587],\n",
       "          [ 0.0190, -0.0194, -0.0872,  ..., -0.6861, -0.6046, -0.6256],\n",
       "          [-0.1039, -0.1186, -0.1373,  ..., -0.3651, -0.5603, -0.7867],\n",
       "          ...,\n",
       "          [-0.9813, -0.9907, -0.9840,  ..., -0.7742, -0.7996, -0.8406],\n",
       "          [-0.9354, -0.9584, -0.9701,  ..., -0.8010, -0.8196, -0.8058],\n",
       "          [-0.8828, -0.9653, -0.9574,  ..., -0.8134, -0.8115, -0.7221]]]])"
      ]
     },
     "execution_count": 46,
     "metadata": {},
     "output_type": "execute_result"
    }
   ],
   "source": [
    "img.detach()"
   ]
  }
 ],
 "metadata": {
  "kernelspec": {
   "display_name": "dh",
   "language": "python",
   "name": "python3"
  },
  "language_info": {
   "codemirror_mode": {
    "name": "ipython",
    "version": 3
   },
   "file_extension": ".py",
   "mimetype": "text/x-python",
   "name": "python",
   "nbconvert_exporter": "python",
   "pygments_lexer": "ipython3",
   "version": "3.9.16"
  },
  "orig_nbformat": 4
 },
 "nbformat": 4,
 "nbformat_minor": 2
}
