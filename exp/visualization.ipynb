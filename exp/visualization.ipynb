{
 "cells": [
  {
   "cell_type": "code",
   "execution_count": 25,
   "metadata": {},
   "outputs": [],
   "source": [
    "import os\n",
    "import torch\n",
    "import numpy as np\n",
    "import torchvision\n",
    "from PIL import Image\n",
    "import matplotlib.pyplot as plt\n",
    "\n",
    "import torchvision.transforms as T\n",
    "import torch.nn.functional as F\n",
    "\n",
    "from ig_pkg.datasets import get_datasets\n",
    "\n",
    "from ig_pkg.models.generator import get_model\n",
    "from ig_pkg.models.classifier import get_classifier\n",
    "from ig_pkg.models.pretrained_models import get_pretrained_model\n",
    "\n",
    "from ig_pkg.inputattribs.ig import make_interpolation, ig\n",
    "from ig_pkg.inputattribs.baseline_generator import get_baseline_generator\n",
    "\n",
    "from ig_pkg.misc import process_heatmap, normalize_tensor, convert_to_img, convert_mask_img, label_to_class, tran, na_imshow\n",
    "\n",
    "import time\n",
    "import torch.nn as nn\n",
    "import torch.optim as optim\n",
    "from torch.optim.lr_scheduler import StepLR\n",
    "from ig_pkg.loss.focal_loss import FocalLoss\n",
    "from ig_pkg.loss.metrics import ArcMarginProduct, AddMarginProduct\n",
    "\n",
    "import torchvision.models as models\n",
    "from torch.autograd import Variable\n",
    "\n",
    "\n",
    "IMAGENET_MEAN = [0.485, 0.456, 0.406]\n",
    "IMAGENET_STD  = [0.229, 0.224, 0.225]\n",
    "\n",
    "my_cmap=plt.cm.seismic(np.arange(plt.cm.seismic.N))\n",
    "\n",
    "device = 'cuda:7'"
   ]
  },
  {
   "attachments": {},
   "cell_type": "markdown",
   "metadata": {},
   "source": [
    "load attribution, interpolation"
   ]
  },
  {
   "cell_type": "code",
   "execution_count": 27,
   "metadata": {},
   "outputs": [],
   "source": [
    "\n",
    "attr_path  = {\n",
    "    'zero': '/home/dhlee/results/cifar10/image_linear_zero_attribution.npy',\n",
    "    'expected': '/home/dhlee/results/cifar10/image_linear_expected_attribution.npy',\n",
    "    \n",
    "    'image_gradient': '/home/dhlee/results/cifar10/image_gradient_attribution.npy', # descent\n",
    "    \n",
    "    'latent_linear': '/home/dhlee/results/cifar10/latent_linear_attribution.npy',\n",
    "    \n",
    "    'image_gradient_ascent': '/home/dhlee/results/cifar10/image_gradient_ascent_attribution.npy',\n",
    "    \n",
    "    'latent_gradient': '/home/dhlee/results/cifar10/latent_gradient_attribution.npy',\n",
    "    'latent_gradient_ascent': '/home/dhlee/results/cifar10/latent_gradient_ascent_attribution.npy',\n",
    "}"
   ]
  },
  {
   "cell_type": "code",
   "execution_count": 28,
   "metadata": {},
   "outputs": [],
   "source": [
    "def make_key(keys, method, ratio):\n",
    "    ans = []\n",
    "    for i in keys:\n",
    "        if method in i:\n",
    "            if ratio in i:\n",
    "                ans.append(i)\n",
    "    return i\n",
    "                "
   ]
  },
  {
   "attachments": {},
   "cell_type": "markdown",
   "metadata": {},
   "source": [
    "Show metric"
   ]
  },
  {
   "cell_type": "code",
   "execution_count": 29,
   "metadata": {},
   "outputs": [],
   "source": [
    "import json\n",
    "\n",
    "with open(\"/home/dhlee/code/ig_inversion/results/evaluation_average_cifar10.json\", \"r\") as st_json:\n",
    "    avg = json.load(st_json)\n"
   ]
  },
  {
   "cell_type": "code",
   "execution_count": 30,
   "metadata": {},
   "outputs": [
    {
     "name": "stdout",
     "output_type": "stream",
     "text": [
      "['aopc_expected_0.05', 'aopc_image_gradient_ascent_0.05', 'aopc_image_gradient_descent_0.05', 'aopc_latent_gradient_ascent_0.05', 'aopc_latent_gradient_descent_0.05', 'aopc_latent_linear_0.05', 'aopc_zero_0.05']\n",
      "[0.18814405631158151, 0.1555990780133463, 0.20323097727093373, 0.17146897119411297, 0.17984184621160676, 0.19253643133309778, 0.22417682373084719]\n"
     ]
    }
   ],
   "source": [
    "method = \"aopc\"\n",
    "ratio = \"0.05\"\n",
    "\n",
    "check_key = []\n",
    "for i in list(avg.keys()):\n",
    "    if ratio in i:\n",
    "        if method in i:\n",
    "            # print(i)\n",
    "            check_key.append(i)\n",
    "\n",
    "print(check_key)\n",
    "\n",
    "result = []\n",
    "for i in check_key:\n",
    "    result.append(avg[f'{i}'])\n",
    "\n",
    "print(result)\n",
    "                \n"
   ]
  },
  {
   "cell_type": "code",
   "execution_count": 22,
   "metadata": {},
   "outputs": [
    {
     "name": "stdout",
     "output_type": "stream",
     "text": [
      "4\n",
      "4\n",
      "20\n",
      "_ _\n",
      "image_gradient\n"
     ]
    }
   ],
   "source": [
    "pr = 'aopc_image_gradient_0.01'\n",
    "re = \"\".join(reversed(pr))\n",
    "print(pr.find('_'))\n",
    "print(re.find('_'))\n",
    "print(len(pr)- re.find('_'))\n",
    "print(pr[4], pr[20 - 1])\n",
    "print(pr[4+1:20-1])"
   ]
  },
  {
   "cell_type": "code",
   "execution_count": 35,
   "metadata": {},
   "outputs": [
    {
     "data": {
      "text/plain": [
       "<matplotlib.legend.Legend at 0x7fe8404e69d0>"
      ]
     },
     "execution_count": 35,
     "metadata": {},
     "output_type": "execute_result"
    },
    {
     "data": {
      "image/png": "[encoded data removed]",
      "text/plain": [
       "<Figure size 640x480 with 1 Axes>"
      ]
     },
     "metadata": {},
     "output_type": "display_data"
    }
   ],
   "source": [
    "plt.bar(check_key, result)\n"
   ]
  },
  {
   "cell_type": "code",
   "execution_count": 33,
   "metadata": {},
   "outputs": [
    {
     "data": {
      "text/html": [
       "<div>\n",
       "<style scoped>\n",
       "    .dataframe tbody tr th:only-of-type {\n",
       "        vertical-align: middle;\n",
       "    }\n",
       "\n",
       "    .dataframe tbody tr th {\n",
       "        vertical-align: top;\n",
       "    }\n",
       "\n",
       "    .dataframe thead th {\n",
       "        text-align: right;\n",
       "    }\n",
       "</style>\n",
       "<table border=\"1\" class=\"dataframe\">\n",
       "  <thead>\n",
       "    <tr style=\"text-align: right;\">\n",
       "      <th></th>\n",
       "      <th>0</th>\n",
       "    </tr>\n",
       "  </thead>\n",
       "  <tbody>\n",
       "    <tr>\n",
       "      <th>aopc_expected_0.01</th>\n",
       "      <td>0.054342</td>\n",
       "    </tr>\n",
       "    <tr>\n",
       "      <th>aopc_expected_0.05</th>\n",
       "      <td>0.188144</td>\n",
       "    </tr>\n",
       "    <tr>\n",
       "      <th>aopc_expected_0.1</th>\n",
       "      <td>0.396177</td>\n",
       "    </tr>\n",
       "    <tr>\n",
       "      <th>aopc_expected_0.15</th>\n",
       "      <td>0.476706</td>\n",
       "    </tr>\n",
       "    <tr>\n",
       "      <th>aopc_expected_0.2</th>\n",
       "      <td>0.447014</td>\n",
       "    </tr>\n",
       "    <tr>\n",
       "      <th>...</th>\n",
       "      <td>...</td>\n",
       "    </tr>\n",
       "    <tr>\n",
       "      <th>morf_zero_0.01</th>\n",
       "      <td>0.853000</td>\n",
       "    </tr>\n",
       "    <tr>\n",
       "      <th>morf_zero_0.05</th>\n",
       "      <td>0.712500</td>\n",
       "    </tr>\n",
       "    <tr>\n",
       "      <th>morf_zero_0.1</th>\n",
       "      <td>0.581300</td>\n",
       "    </tr>\n",
       "    <tr>\n",
       "      <th>morf_zero_0.15</th>\n",
       "      <td>0.466100</td>\n",
       "    </tr>\n",
       "    <tr>\n",
       "      <th>morf_zero_0.2</th>\n",
       "      <td>0.365800</td>\n",
       "    </tr>\n",
       "  </tbody>\n",
       "</table>\n",
       "<p>140 rows × 1 columns</p>\n",
       "</div>"
      ],
      "text/plain": [
       "                           0\n",
       "aopc_expected_0.01  0.054342\n",
       "aopc_expected_0.05  0.188144\n",
       "aopc_expected_0.1   0.396177\n",
       "aopc_expected_0.15  0.476706\n",
       "aopc_expected_0.2   0.447014\n",
       "...                      ...\n",
       "morf_zero_0.01      0.853000\n",
       "morf_zero_0.05      0.712500\n",
       "morf_zero_0.1       0.581300\n",
       "morf_zero_0.15      0.466100\n",
       "morf_zero_0.2       0.365800\n",
       "\n",
       "[140 rows x 1 columns]"
      ]
     },
     "execution_count": 33,
     "metadata": {},
     "output_type": "execute_result"
    }
   ],
   "source": [
    "import pandas as pd\n",
    "\n",
    "data = pd.DataFrame.from_dict(avg, orient = 'index')\n",
    "data\n"
   ]
  },
  {
   "cell_type": "code",
   "execution_count": null,
   "metadata": {},
   "outputs": [],
   "source": []
  },
  {
   "cell_type": "code",
   "execution_count": null,
   "metadata": {},
   "outputs": [],
   "source": []
  },
  {
   "cell_type": "code",
   "execution_count": null,
   "metadata": {},
   "outputs": [],
   "source": []
  },
  {
   "cell_type": "code",
   "execution_count": null,
   "metadata": {},
   "outputs": [],
   "source": []
  },
  {
   "attachments": {},
   "cell_type": "markdown",
   "metadata": {},
   "source": [
    "show interpolation"
   ]
  },
  {
   "cell_type": "code",
   "execution_count": null,
   "metadata": {},
   "outputs": [],
   "source": []
  }
 ],
 "metadata": {
  "kernelspec": {
   "display_name": "dh1",
   "language": "python",
   "name": "python3"
  },
  "language_info": {
   "codemirror_mode": {
    "name": "ipython",
    "version": 3
   },
   "file_extension": ".py",
   "mimetype": "text/x-python",
   "name": "python",
   "nbconvert_exporter": "python",
   "pygments_lexer": "ipython3",
   "version": "3.8.13"
  },
  "orig_nbformat": 4
 },
 "nbformat": 4,
 "nbformat_minor": 2
}
