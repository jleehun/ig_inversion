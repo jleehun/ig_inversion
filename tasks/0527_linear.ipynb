{
 "cells": [
  {
   "cell_type": "code",
   "execution_count": 2,
   "metadata": {
    "id": "4AJbOdjZd4Qq"
   },
   "outputs": [],
   "source": [
    "import os\n",
    "import torch\n",
    "import numpy as np\n",
    "import torchvision\n",
    "from PIL import Image\n",
    "import matplotlib.pyplot as plt\n",
    "\n",
    "import torchvision.transforms as T\n",
    "import torch.nn.functional as F\n",
    "\n",
    "from ig_pkg.datasets import get_datasets\n",
    "\n",
    "from ig_pkg.models.generator import get_model\n",
    "from ig_pkg.models.classifier import get_classifier\n",
    "from ig_pkg.models.pretrained_models import get_pretrained_model\n",
    "\n",
    "from ig_pkg.inputattribs.ig import make_interpolation, ig\n",
    "from ig_pkg.inputattribs.baseline_generator import get_baseline_generator\n",
    "\n",
    "from ig_pkg.misc import process_heatmap, normalize_tensor, convert_to_img, convert_mask_img, label_to_class, tran, na_imshow\n",
    "\n",
    "import time\n",
    "import torch.nn as nn\n",
    "import torch.optim as optim\n",
    "from torch.optim.lr_scheduler import StepLR\n",
    "from ig_pkg.loss.focal_loss import FocalLoss\n",
    "from ig_pkg.loss.metrics import ArcMarginProduct, AddMarginProduct\n",
    "\n",
    "import torchvision.models as models\n",
    "from torch.autograd import Variable\n",
    "\n",
    "\n",
    "IMAGENET_MEAN = [0.485, 0.456, 0.406]\n",
    "IMAGENET_STD  = [0.229, 0.224, 0.225]\n",
    "\n",
    "my_cmap=plt.cm.seismic(np.arange(plt.cm.seismic.N))\n",
    "\n",
    "device = 'cuda:0'"
   ]
  },
  {
   "cell_type": "code",
   "execution_count": 3,
   "metadata": {},
   "outputs": [],
   "source": [
    "# https://github.com/PAIR-code/saliency/blob/master/Examples_pytorch.ipynb\n",
    "\n",
    "import saliency.core as saliency\n",
    "\n",
    "# Boilerplate methods.\n",
    "def ShowImage(im, title='', ax=None):\n",
    "    if ax is None:\n",
    "        plt.figure()\n",
    "    plt.axis('off')\n",
    "    plt.imshow(im)\n",
    "    plt.title(title)\n",
    "\n",
    "def ShowGrayscaleImage(im, title='', ax=None):\n",
    "    if ax is None:\n",
    "        plt.figure()\n",
    "    plt.axis('off')\n",
    "    plt.imshow(im, cmap=plt.cm.gray, vmin=0, vmax=1)\n",
    "    plt.title(title)\n",
    "\n",
    "def ShowHeatMap(im, title, ax=None):\n",
    "    if ax is None:\n",
    "        P.figure()\n",
    "    P.axis('off')\n",
    "    P.imshow(im, cmap='inferno')\n",
    "    P.title(title)\n",
    "\n",
    "transformer = T.Compose([\n",
    "    T.Resize(224),\n",
    "    T.CenterCrop(224),\n",
    "    T.ToTensor(),\n",
    "    T.Normalize(mean = IMAGENET_MEAN, std = IMAGENET_STD),\n",
    "])\n",
    "\n",
    "def LoadNumpy(file_path):\n",
    "    im = Image.open(file_path)\n",
    "    im = im.resize((224, 224)) # reserve channel \n",
    "    im = np.asarray(im)\n",
    "    return im    \n",
    "\n",
    "# def PreprocessImages(images):\n",
    "#     # assumes input is 4-D, with range [0,255]\n",
    "#     #\n",
    "#     # torchvision have color channel as first dimension\n",
    "#     # with normalization relative to mean/std of ImageNet:\n",
    "#     #    https://pytorch.org/vision/stable/models.html\n",
    "#     images = np.array(images)\n",
    "#     images = images/255\n",
    "#     images = np.transpose(images, (0,3,1,2))\n",
    "#     images = torch.tensor(images, dtype=torch.float32)\n",
    "#     images = transformer.forward(images)\n",
    "#     return images.requires_grad_(True)\n",
    "\n",
    "def LoadTensor(file_path):\n",
    "    im = Image.open(file_path)\n",
    "    temp = np.asarray(im)\n",
    "#     if len(temp.shape) == 3: images = transformer(im)    \n",
    "#     else: return None\n",
    "    \n",
    "    images = transformer(im)    \n",
    "    return images.requires_grad_(True)\n",
    "\n",
    "class_idx_str = 'class_idx_str'\n",
    "def call_model_function(images, call_model_args=None, expected_keys=None):\n",
    "    images = PreprocessImages(images)\n",
    "    target_class_idx =  call_model_args[class_idx_str]\n",
    "    output = model(images)\n",
    "    m = torch.nn.Softmax(dim=1)\n",
    "    output = m(output)\n",
    "    if saliency.base.INPUT_OUTPUT_GRADIENTS in expected_keys:\n",
    "        outputs = output[:,target_class_idx]\n",
    "        grads = torch.autograd.grad(outputs, images, grad_outputs=torch.ones_like(outputs))\n",
    "        grads = torch.movedim(grads[0], 1, 3)\n",
    "        gradients = grads.detach().numpy()\n",
    "        return {saliency.base.INPUT_OUTPUT_GRADIENTS: gradients}\n",
    "    else:\n",
    "        one_hot = torch.zeros_like(output)\n",
    "        one_hot[:,target_class_idx] = 1\n",
    "        model.zero_grad()\n",
    "        output.backward(gradient=one_hot, retain_graph=True)\n",
    "        return conv_layer_outputs"
   ]
  },
  {
   "cell_type": "code",
   "execution_count": null,
   "metadata": {},
   "outputs": [],
   "source": [
    "data_path=\"/root/data/ILSVRC2012_val/\"\n",
    "\n",
    "_, valid_datasets = get_datasets(\"imagenet1k\", data_path)\n",
    "valid_dataloader = torch.utils.data.DataLoader(valid_datasets, batch_size=1, shuffle=False, num_workers=2)\n",
    "\n",
    "model = models.resnet18(weights='ResNet18_Weights.DEFAULT')\n",
    "eval_mode = model.eval()"
   ]
  },
  {
   "cell_type": "code",
   "execution_count": null,
   "metadata": {},
   "outputs": [],
   "source": [
    "# n02443484: 40 black-footed_ferret\n",
    "# n01614925: 398 bald_eagle\n",
    "\n",
    "data_path=\"/root/data/ILSVRC2012_val/\"\n",
    "\n",
    "ferrot_dir = os.path.join(data_path, 'val', 'n02443484')\n",
    "ferrot_idx = os.listdir(ferrot_dir)[1]\n",
    "ferrot_np = LoadNumpy(os.path.join(ferrot_dir, ferrot_idx))\n",
    "ferrot_tensor = LoadTensor(os.path.join(ferrot_dir, ferrot_idx))\n",
    "\n",
    "# eagle_dir = os.path.join(data_path, 'val', 'n01614925')\n",
    "# eagle_idx = os.listdir(eagle_dir)[1]\n",
    "# eagle_img = LoadNumpy(os.path.join(eagle_dir, eagle_idx))\n",
    "# eagle_tensor = LoadTensor(os.path.join(eagle_dir, eagle_idx))\n"
   ]
  },
  {
   "cell_type": "code",
   "execution_count": 4,
   "metadata": {},
   "outputs": [
    {
     "name": "stderr",
     "output_type": "stream",
     "text": [
      "/home/dhlee/anaconda3/envs/dh1/lib/python3.8/site-packages/torch/serialization.py:779: UserWarning: 'torch.load' received a zip file that looks like a TorchScript archive dispatching to 'torch.jit.load' (call 'torch.jit.load' directly to silence this warning)\n",
      "  warnings.warn(\"'torch.load' received a zip file that looks like a TorchScript archive\"\n"
     ]
    }
   ],
   "source": [
    "device = 'cuda:2'\n",
    "import torchvision.transforms as T\n",
    "CIFAR10_STATS = {\n",
    "    'mean' : [0.4914, 0.4822, 0.4465],\n",
    "    'std' : [0.2023, 0.1994, 0.2010]\n",
    "}\n",
    "\n",
    "transform = T.Compose([\n",
    "                T.ToTensor(), \n",
    "                T.Normalize(CIFAR10_STATS['mean'], CIFAR10_STATS['std'])\n",
    "            ])\n",
    "\n",
    "valid_dataset = torchvision.datasets.CIFAR10(root='/data8/donghun/cifar10/untracked/', train=False, transform=transform)\n",
    "model = torch.load(\"/data8/donghun/cifar10/results/densenet/script_model.pt\",  map_location='cpu').eval().to(device)\n",
    "\n",
    "# valid_dataset = torchvision.datasets.CIFAR10(root='/root/data/cifar10', train=False, transform=transform)\n",
    "# model = torch.load(\"/root/data/cifar10/cifar10/results/densenet/script_model.pt\",  map_location='cpu').eval().to('cuda:0')\n",
    "\n",
    "# interpolation = torch.from_numpy(np.load('/root/results/cifar10/image_simple_gradient_ascent_interpolation.npy'))"
   ]
  },
  {
   "cell_type": "code",
   "execution_count": 6,
   "metadata": {},
   "outputs": [
    {
     "data": {
      "text/plain": [
       "torch.Size([10000, 25, 3, 32, 32])"
      ]
     },
     "execution_count": 6,
     "metadata": {},
     "output_type": "execute_result"
    }
   ],
   "source": [
    "interpolation.shape"
   ]
  },
  {
   "cell_type": "code",
   "execution_count": 8,
   "metadata": {},
   "outputs": [
    {
     "data": {
      "image/png": "[encoded data removed]",
      "text/plain": [
       "<Figure size 640x480 with 25 Axes>"
      ]
     },
     "metadata": {},
     "output_type": "display_data"
    }
   ],
   "source": [
    "idx = 101\n",
    "\n",
    "fig, axes = plt.subplots(5, 5)\n",
    "axes_flat = axes.flat \n",
    "my_cmap=plt.cm.seismic(np.arange(plt.cm.seismic.N))\n",
    "\n",
    "for i in range(25):\n",
    "    x = interpolation[idx][i]\n",
    "    ax = next(axes_flat)\n",
    "    ax.imshow(convert_to_img(x))"
   ]
  },
  {
   "attachments": {},
   "cell_type": "markdown",
   "metadata": {},
   "source": [
    "check gradient of baseline"
   ]
  },
  {
   "cell_type": "code",
   "execution_count": 1,
   "metadata": {},
   "outputs": [],
   "source": [
    "import random\n",
    "import os\n",
    "import torch\n",
    "import torchvision\n",
    "import numpy as np \n",
    "import argparse\n",
    "from tqdm import tqdm\n",
    "import json\n",
    "from distutils.util import strtobool\n",
    "\n",
    "from ig_pkg.utils.eval import Cifar10Evaluator\n",
    "from ig_pkg.utils.metrics import * #morf, lerf, \n",
    "from ig_pkg.utils.attribution import *\n",
    "\n",
    "sample_result_dict = {}\n",
    "average_result_dict = {}"
   ]
  },
  {
   "cell_type": "code",
   "execution_count": 6,
   "metadata": {},
   "outputs": [],
   "source": [
    "path = {\n",
    "    'zero': '/home/dhlee/results/cifar10/image_linear_zero_interpolation.npy',\n",
    "    'expected': '/home/dhlee/results/cifar10/image_linear_expected_interpolation.npy',\n",
    "    \n",
    "    'latent_linear': '/home/dhlee/results/cifar10/latent_linear_interpolation.npy',\n",
    "    }\n",
    "\n"
   ]
  },
  {
   "cell_type": "code",
   "execution_count": 17,
   "metadata": {},
   "outputs": [
    {
     "name": "stderr",
     "output_type": "stream",
     "text": [
      " Attribtion [👾] | linear & gradient | : 100%|██████████| 10000/10000 [03:32<00:00, 47.07it/s]\n"
     ]
    }
   ],
   "source": [
    "pbar = tqdm(range(len(valid_dataset)))\n",
    "pbar.set_description(f\" Attribtion [👾] | linear & gradient | \")\n",
    "\n",
    "method = 'expected'\n",
    "interpolation_path = path[method]\n",
    "interpolation = torch.from_numpy(np.load(interpolation_path))\n",
    "\n",
    "sample_result_dict[f'{method}'] =[]\n",
    "for idx in pbar:    \n",
    "    input, label = valid_dataset[idx]\n",
    "    input = input.to(device)\n",
    "    \n",
    "    baseline = interpolation[idx][0]\n",
    "    logit = model(baseline.unsqueeze(0).to(device))\n",
    "    score = torch.softmax(logit, dim=-1)[:, label].item()\n",
    "    sample_result_dict[f'{method}'].append(score)"
   ]
  },
  {
   "cell_type": "code",
   "execution_count": 18,
   "metadata": {},
   "outputs": [
    {
     "data": {
      "text/plain": [
       "0.10230340911733837"
      ]
     },
     "execution_count": 18,
     "metadata": {},
     "output_type": "execute_result"
    }
   ],
   "source": [
    "average_result_dict[f'{method}'] = np.mean(sample_result_dict[f'{method}'])\n",
    "average_result_dict[f'{method}']"
   ]
  },
  {
   "cell_type": "code",
   "execution_count": 15,
   "metadata": {},
   "outputs": [
    {
     "name": "stderr",
     "output_type": "stream",
     "text": [
      " Attribtion [👾] | linear & gradient | : 100%|██████████| 10000/10000 [18:04<00:00,  9.22it/s]\n"
     ]
    },
    {
     "data": {
      "text/plain": [
       "0.7982492831266056"
      ]
     },
     "execution_count": 15,
     "metadata": {},
     "output_type": "execute_result"
    }
   ],
   "source": [
    "pbar = tqdm(range(len(valid_dataset)))\n",
    "pbar.set_description(f\" Attribtion [👾] | linear & gradient | \")\n",
    "\n",
    "method = 'latent_linear'\n",
    "interpolation_path = path[method]\n",
    "interpolation = torch.from_numpy(np.load(interpolation_path))\n",
    "\n",
    "attribution = []\n",
    "sample_result_dict[f'{method}'] =[]\n",
    "for idx in pbar:    \n",
    "    input, label = valid_dataset[idx]\n",
    "    input = input.to(device)\n",
    "    \n",
    "    baseline = interpolation[idx][-1].to(device)\n",
    "    logit = model(baseline.unsqueeze(0).to(device))\n",
    "    score = torch.softmax(logit, dim=-1)[:, label].item()\n",
    "    sample_result_dict[f'{method}'].append(score)\n",
    "\n",
    "    interp = linear_interpolation(input, 24, baseline).to(device) # tensor\n",
    "    attrib = integrated_gradient(model, input, label, baseline, interp, device) # tensor\n",
    "    \n",
    "    attribution.append(attrib.detach().cpu())\n",
    "\n",
    "attribution = torch.stack(attribution)\n",
    "np.save(f'/home/dhlee/results/cifar10/{method}_interpolation_linear_attribution.npy', attribution.numpy())\n",
    "\n",
    "average_result_dict[f'{method}'] = np.mean(sample_result_dict[f'{method}'])\n",
    "\n",
    "average_result_dict[f'{method}']            "
   ]
  },
  {
   "cell_type": "code",
   "execution_count": 19,
   "metadata": {},
   "outputs": [
    {
     "data": {
      "text/plain": [
       "{'zero': 0.10000000158324837,\n",
       " 'latent_linear': 0.7982492831266056,\n",
       " 'expected': 0.10230340911733837}"
      ]
     },
     "execution_count": 19,
     "metadata": {},
     "output_type": "execute_result"
    }
   ],
   "source": [
    "average_result_dict"
   ]
  },
  {
   "cell_type": "code",
   "execution_count": 20,
   "metadata": {},
   "outputs": [],
   "source": [
    "save_dir = '/home/dhlee/code/ig_inversion/results/'\n",
    "\n",
    "with open(os.path.join(save_dir, f\"baseline_score_average_cifar10.json\"), 'w') as f:\n",
    "    json.dump(average_result_dict, f, indent=2, sort_keys=True)\n",
    "    \n",
    "with open(os.path.join(save_dir, f\"baseline_score_samples_cifar10.json\"), 'w') as f:\n",
    "    json.dump(sample_result_dict, f, indent=2, sort_keys=True)  "
   ]
  },
  {
   "attachments": {},
   "cell_type": "markdown",
   "metadata": {},
   "source": [
    "Expected IG - when the label of baseline is different from that of given image"
   ]
  },
  {
   "cell_type": "code",
   "execution_count": null,
   "metadata": {},
   "outputs": [],
   "source": []
  },
  {
   "cell_type": "code",
   "execution_count": null,
   "metadata": {},
   "outputs": [],
   "source": []
  },
  {
   "cell_type": "code",
   "execution_count": null,
   "metadata": {},
   "outputs": [],
   "source": []
  },
  {
   "cell_type": "code",
   "execution_count": null,
   "metadata": {},
   "outputs": [],
   "source": [
    "device = 'cuda:0'\n",
    "names = {\n",
    "    'zero',\n",
    "    'one',\n",
    "    'min',\n",
    "    'max',\n",
    "    'scalar',\n",
    "#     'encoder',\n",
    "#     'optimizer',\n",
    "#     'hybrid',\n",
    "    'gaussian_blur',\n",
    "    'gaussian',\n",
    "    'uniform',\n",
    "    'maximumdistance' \n",
    "}\n",
    "\n",
    "# {'gaussian',\n",
    "#  'gaussian_blur',\n",
    "#  'max',\n",
    "#  'maximumdistance',\n",
    "#  'min',\n",
    "#  'one',\n",
    "#  'scalar',\n",
    "#  'uniform',\n",
    "#  'zero'}\n",
    "\n",
    "index = 0 \n",
    "# x,y = valid_datasets[index]\n",
    "x = ferrot_tensor\n",
    "y = 359\n",
    "\n",
    "fig, axes = plt.subplots(2, (len(names)//2)+1, figsize=(2*len(names)//2, 2*2))\n",
    "axes_flat = axes.flat \n",
    "my_cmap=plt.cm.seismic(np.arange(plt.cm.seismic.N))\n",
    "\n",
    "ax = next(axes_flat)\n",
    "ax.imshow(convert_to_img(x))\n",
    "\n",
    "AOPC = []\n",
    "LODDs = []\n",
    "Kendal = []\n",
    "for name in names:\n",
    "    print(name)\n",
    "    a = []\n",
    "    b = []\n",
    "    try:\n",
    "        b_generator =  get_baseline_generator(name, scalar = 0.3)\n",
    "        baseline = b_generator(x=x,y=y)\n",
    "\n",
    "    except Exception as e: \n",
    "        print(\"-----\")\n",
    "        print(\"fail:\", name)\n",
    "        print(e)\n",
    "        continue\n",
    "        \n",
    "    attr = ig(eval_mode.to(device), x, y, baseline, device=device)\n",
    "    Kendal.append(kendal_correlation(eval_mode, ferrot_tensor, baseline, attr.detach().cpu().numpy(), device))\n",
    "\n",
    "#     print(name)\n",
    "    for i in range(19):\n",
    "#         k = i * 5 + 5        \n",
    "        k = i + 1\n",
    "        aopc, lodds = pipeline(eval_mode, ferrot_tensor.to(device), baseline, attr, k, device, name)\n",
    "        \n",
    "#         print(name, k, aopc, lodds)\n",
    "        a.append(aopc)\n",
    "        b.append(lodds)\n",
    "    \n",
    "    attr, kwargs  = process_heatmap(attr.cpu(), my_cmap)\n",
    "    ax = next(axes_flat)\n",
    "    ax.imshow(attr, **kwargs)\n",
    "    ax.set_title(name)\n",
    "    ax.axis(\"off\")\n",
    "    \n",
    "    AOPC.append(a)\n",
    "    LODDs.append(b)    \n",
    "    \n",
    "plt.tight_layout()"
   ]
  }
 ],
 "metadata": {
  "colab": {
   "authorship_tag": "ABX9TyMy8G3IL+8++WTZ/K7SQBqo",
   "collapsed_sections": [],
   "name": "CelebAMask HQ Dataset Processing",
   "provenance": []
  },
  "kernelspec": {
   "display_name": "dh1",
   "language": "python",
   "name": "python3"
  },
  "language_info": {
   "codemirror_mode": {
    "name": "ipython",
    "version": 3
   },
   "file_extension": ".py",
   "mimetype": "text/x-python",
   "name": "python",
   "nbconvert_exporter": "python",
   "pygments_lexer": "ipython3",
   "version": "3.8.13"
  }
 },
 "nbformat": 4,
 "nbformat_minor": 4
}
