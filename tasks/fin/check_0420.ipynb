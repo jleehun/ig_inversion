{
 "cells": [
  {
   "cell_type": "code",
   "execution_count": 1,
   "metadata": {
    "id": "4AJbOdjZd4Qq"
   },
   "outputs": [],
   "source": [
    "import torch\n",
    "import torch.nn as nn\n",
    "import torch.optim as optim\n",
    "\n",
    "import torchvision\n",
    "from torchvision import datasets, models, transforms\n",
    "\n",
    "import numpy as np\n",
    "import matplotlib.pyplot as plt\n",
    "\n",
    "import time\n",
    "import os\n",
    "import scipy"
   ]
  },
  {
   "cell_type": "code",
   "execution_count": 2,
   "metadata": {},
   "outputs": [
    {
     "name": "stderr",
     "output_type": "stream",
     "text": [
      "/root/dh/lib/python3.8/site-packages/torchvision/models/_utils.py:208: UserWarning: The parameter 'pretrained' is deprecated since 0.13 and may be removed in the future, please use 'weights' instead.\n",
      "  warnings.warn(\n",
      "/root/dh/lib/python3.8/site-packages/torchvision/models/_utils.py:223: UserWarning: Arguments other than a weight enum or `None` for 'weights' are deprecated since 0.13 and may be removed in the future. The current behavior is equivalent to passing `weights=ResNet18_Weights.IMAGENET1K_V1`. You can also use `weights=ResNet18_Weights.DEFAULT` to get the most up-to-date weights.\n",
      "  warnings.warn(msg)\n"
     ]
    }
   ],
   "source": [
    "model = models.resnet18(pretrained=True) "
   ]
  },
  {
   "cell_type": "code",
   "execution_count": 26,
   "metadata": {},
   "outputs": [],
   "source": [
    "black = torch.zeros((1, 3, 224, 224))\n",
    "white = torch.ones((1, 3, 224, 224))\n",
    "ran = torch.randn((1, 3, 224, 224))"
   ]
  },
  {
   "cell_type": "code",
   "execution_count": 29,
   "metadata": {},
   "outputs": [
    {
     "name": "stdout",
     "output_type": "stream",
     "text": [
      "tensor(463)\n",
      "tensor(463)\n",
      "tensor(463)\n",
      "6.577561\n",
      "6.567184\n",
      "6.5954514\n"
     ]
    }
   ],
   "source": [
    "logit_black = model(black)\n",
    "logit_white = model(white)\n",
    "logit_ran = model(ran)\n",
    "\n",
    "array_logit_black = logit_black.detach().numpy().squeeze(0)\n",
    "array_logit_white = logit_white.detach().numpy().squeeze(0)\n",
    "array_logit_ran = logit_ran.detach().numpy().squeeze(0)\n",
    "\n",
    "softmax_black = nn.Softmax(dim=1)(logit_black)\n",
    "softmax_white = nn.Softmax(dim=1)(logit_white)\n",
    "softmax_ran = nn.Softmax(dim=1)(logit_ran)\n",
    "\n",
    "array_softmax_black = softmax_black.detach().numpy().squeeze(0)\n",
    "array_softmax_white = softmax_white.detach().numpy().squeeze(0)\n",
    "array_softmax_ran = softmax_ran.detach().numpy().squeeze(0)\n",
    "\n",
    "print(torch.argmax(logit_black))\n",
    "print(torch.argmax(logit_white))\n",
    "print(torch.argmax(logit_ran))\n",
    "\n",
    "print(scipy.stats.entropy(array_softmax_black))\n",
    "print(scipy.stats.entropy(array_softmax_white))\n",
    "print(scipy.stats.entropy(array_softmax_ran))"
   ]
  }
 ],
 "metadata": {
  "colab": {
   "authorship_tag": "ABX9TyMy8G3IL+8++WTZ/K7SQBqo",
   "collapsed_sections": [],
   "name": "CelebAMask HQ Dataset Processing",
   "provenance": []
  },
  "kernelspec": {
   "display_name": "dh",
   "language": "python",
   "name": "dh"
  },
  "language_info": {
   "codemirror_mode": {
    "name": "ipython",
    "version": 3
   },
   "file_extension": ".py",
   "mimetype": "text/x-python",
   "name": "python",
   "nbconvert_exporter": "python",
   "pygments_lexer": "ipython3",
   "version": "3.8.10"
  }
 },
 "nbformat": 4,
 "nbformat_minor": 4
}
