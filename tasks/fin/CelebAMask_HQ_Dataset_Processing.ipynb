{
 "cells": [
  {
   "cell_type": "markdown",
   "metadata": {
    "id": "3opGFbBLdzGi"
   },
   "source": [
    "#### <b>Load Dataset</b>"
   ]
  },
  {
   "cell_type": "code",
   "execution_count": null,
   "metadata": {
    "colab": {
     "base_uri": "https://localhost:8080/"
    },
    "id": "Y2x8aEoX1i0V",
    "outputId": "7cf90906-2c83-4712-8dad-c37cc3e1e6d9"
   },
   "outputs": [],
   "source": [
    "!wget https://postechackr-my.sharepoint.com/:u:/g/personal/dongbinna_postech_ac_kr/Eb37jNPPA7hHl0fmktYqcV8B-qmPLx-ZKYQ1eFk4UPBV_A?download=1 -O CelebAMask-HQ.zip\n",
    "!wget https://postechackr-my.sharepoint.com/:t:/g/personal/dongbinna_postech_ac_kr/EVRoUY8_txRFv56-KWvZrksBDWbD6adkjBxwwRN7qAC6bg?download=1 -O CelebA-HQ-identity.txt\n",
    "!wget https://postechackr-my.sharepoint.com/:t:/g/personal/dongbinna_postech_ac_kr/EVrdIrPOkR1OlEWBVK8lE3AB9bFh741GnKBkNgPa8trNuA?download=1 -O CelebA-HQ-attribute.txt"
   ]
  },
  {
   "cell_type": "code",
   "execution_count": null,
   "metadata": {
    "id": "kNDdBv8z1teG"
   },
   "outputs": [],
   "source": [
    "%%capture\n",
    "!rm -rf ./CelebAMask-HQ\n",
    "!unzip CelebAMask-HQ.zip"
   ]
  },
  {
   "cell_type": "markdown",
   "metadata": {
    "id": "p_4UTUJAL_t7"
   },
   "source": [
    "#### <b>Generate Facial Identity Recognition Dataset</b>"
   ]
  },
  {
   "cell_type": "code",
   "execution_count": 1,
   "metadata": {
    "colab": {
     "base_uri": "https://localhost:8080/"
    },
    "id": "U17_Cso7RB0D",
    "outputId": "7f825776-30e4-4cdf-92fe-1c3e65d6b8ab"
   },
   "outputs": [
    {
     "name": "stdout",
     "output_type": "stream",
     "text": [
      "There are 6217 identities.\n",
      "There are 30000 images.\n"
     ]
    }
   ],
   "source": [
    "identities = {}\n",
    "with open('/root/data/CelebA-HQ-identity.txt') as f:\n",
    "    lines = f.readlines()\n",
    "    for line in lines:\n",
    "        file_name, identity = line.strip().split()\n",
    "        identities[file_name] = identity\n",
    "\n",
    "print(f'There are {len(set(identities.values()))} identities.')\n",
    "print(f'There are {len(identities.keys())} images.')"
   ]
  },
  {
   "cell_type": "code",
   "execution_count": 5,
   "metadata": {
    "id": "3Ejc5bR7MACf"
   },
   "outputs": [],
   "source": [
    "import os\n",
    "from shutil import copyfile\n",
    "source_root = '/root/data/temp/CelebA-HQ-img'\n",
    "target_root = '/root/data/identity_celebahq'\n",
    "file_list = os.listdir(source_root)\n",
    "\n",
    "for file in file_list:\n",
    "    identity = identities[file]\n",
    "    source = os.path.join(source_root, file)\n",
    "    target = os.path.join(target_root, str(identity), file)\n",
    "    if not os.path.exists(os.path.join(target_root, str(identity))):\n",
    "        os.makedirs(os.path.join(target_root, str(identity)))\n",
    "    copyfile(source, target)"
   ]
  },
  {
   "cell_type": "code",
   "execution_count": 4,
   "metadata": {
    "colab": {
     "base_uri": "https://localhost:8080/"
    },
    "id": "ulW7t-MsMm-C",
    "outputId": "377502dc-36cc-4b29-c06b-b6ab9ad4739f"
   },
   "outputs": [
    {
     "name": "stdout",
     "output_type": "stream",
     "text": [
      "There are 1 identities that have more than 5 images.\n",
      "There are 3819 train images.\n",
      "There are 0 test images.\n"
     ]
    }
   ],
   "source": [
    "import os\n",
    "\n",
    "source_root = '/root/data/temp/CelebA-HQ-img'\n",
    "target_root = '/root/data/identity_celebahq'\n",
    "folder_root = target_root\n",
    "folder_list = os.listdir(folder_root)\n",
    "\n",
    "threshold= 5\n",
    "identity_cnt = 0\n",
    "\n",
    "train_images = 0\n",
    "test_images = 0\n",
    "train_ratio = 0.8\n",
    "\n",
    "for folder in folder_list:\n",
    "    file_list = os.path.join(folder_root, folder)\n",
    "    file_list = os.listdir(file_list)\n",
    "    if len(file_list) >= threshold:\n",
    "        identity_cnt += 1\n",
    "#         num_train = int(train_ratio * len(file_list))\n",
    "#         for file in file_list[:num_train]:\n",
    "        for file in file_list:\n",
    "            train_images += 1\n",
    "#             source = os.path.join(folder_root, folder, file)\n",
    "#             target = os.path.join(folder_root, 'whole', folder, file)\n",
    "#             if not os.path.exists(os.path.join(folder_root, 'whole', folder)):\n",
    "#                 os.makedirs(os.path.join(folder_root, 'whole', folder))\n",
    "#             os.rename(source, target)\n",
    "#         for file in file_list[num_train:]:\n",
    "#             test_images += 1\n",
    "#             source = os.path.join(folder_root, folder, file)\n",
    "#             target = os.path.join(folder_root, 'test', folder, file)\n",
    "#             if not os.path.exists(os.path.join(folder_root, 'test', folder)):\n",
    "#                 os.makedirs(os.path.join(folder_root, 'test', folder))\n",
    "#             os.rename(source, target)\n",
    "\n",
    "print(f'There are {identity_cnt} identities that have more than {threshold} images.')\n",
    "print(f'There are {train_images} train images.')\n",
    "print(f'There are {test_images} test images.')"
   ]
  },
  {
   "cell_type": "code",
   "execution_count": null,
   "metadata": {
    "id": "l-2w3kSzYEcq"
   },
   "outputs": [],
   "source": [
    "!mkdir -p ./facial_identity_dataset/train\n",
    "!mkdir -p ./facial_identity_dataset/test\n",
    "os.rename('./identity_dataset/train', './facial_identity_dataset/train')\n",
    "os.rename('./identity_dataset/test', './facial_identity_dataset/test')"
   ]
  },
  {
   "cell_type": "markdown",
   "metadata": {
    "id": "9Fx5hBw-YCLG"
   },
   "source": [
    "#### <b>Generate Face Gender Recognition Dataset</b>"
   ]
  },
  {
   "cell_type": "code",
   "execution_count": null,
   "metadata": {
    "colab": {
     "base_uri": "https://localhost:8080/"
    },
    "id": "S3eB3332YLUu",
    "outputId": "9fa82f13-9892-43f1-edb5-6089254657ad"
   },
   "outputs": [],
   "source": [
    "gender_map = {}\n",
    "\n",
    "with open('./CelebA-HQ-attribute.txt') as f:\n",
    "    lines = f.readlines()\n",
    "    for line in lines[2:]:\n",
    "        splited = line.strip().split()\n",
    "        file_name, male = splited[0], splited[21]\n",
    "        gender_map[file_name] = male\n",
    "\n",
    "print(f'There are {len(set(gender_map.values()))} classes.')\n",
    "print(f'There are {len(gender_map.keys())} images.')"
   ]
  },
  {
   "cell_type": "code",
   "execution_count": null,
   "metadata": {
    "id": "MlaOVHCtZBVk"
   },
   "outputs": [],
   "source": [
    "import os\n",
    "from shutil import copyfile\n",
    "\n",
    "\n",
    "source_root = './CelebAMask-HQ/CelebA-HQ-img/'\n",
    "target_root = './gender_dataset/'\n",
    "file_list = os.listdir(source_root)\n",
    "\n",
    "for file in file_list:\n",
    "    gender = gender_map[file]\n",
    "    if gender == '1':\n",
    "        gender = 'male'\n",
    "    else:\n",
    "        gender = 'female'\n",
    "    source = os.path.join(source_root, file)\n",
    "    target = os.path.join(target_root, gender, file)\n",
    "    if not os.path.exists(os.path.join(target_root, gender)):\n",
    "        os.makedirs(os.path.join(target_root, gender))\n",
    "    copyfile(source, target)"
   ]
  },
  {
   "cell_type": "code",
   "execution_count": null,
   "metadata": {
    "colab": {
     "base_uri": "https://localhost:8080/"
    },
    "id": "8ws6CVhUZCr3",
    "outputId": "76e3e207-9bf5-4585-9e19-0b9b2d168bae"
   },
   "outputs": [],
   "source": [
    "folder_root = './gender_dataset/'\n",
    "folder_list = os.listdir(folder_root)\n",
    "\n",
    "male_cnt = 0\n",
    "female_cnt = 0\n",
    "\n",
    "train_images = 0\n",
    "test_images = 0\n",
    "train_ratio = 0.8\n",
    "\n",
    "for folder in folder_list:\n",
    "    file_list = os.path.join(folder_root, folder)\n",
    "    file_list = os.listdir(file_list)\n",
    "    if folder == 'male':\n",
    "        male_cnt += len(file_list)\n",
    "    else:\n",
    "        female_cnt += len(file_list)\n",
    "    num_train = int(train_ratio * len(file_list))\n",
    "    for file in file_list[:num_train]:\n",
    "        train_images += 1\n",
    "        source = os.path.join(folder_root, folder, file)\n",
    "        target = os.path.join(folder_root, 'train', folder, file)\n",
    "        if not os.path.exists(os.path.join(folder_root, 'train', folder)):\n",
    "            os.makedirs(os.path.join(folder_root, 'train', folder))\n",
    "        os.rename(source, target)\n",
    "    for file in file_list[num_train:]:\n",
    "        test_images += 1\n",
    "        source = os.path.join(folder_root, folder, file)\n",
    "        target = os.path.join(folder_root, 'test', folder, file)\n",
    "        if not os.path.exists(os.path.join(folder_root, 'test', folder)):\n",
    "            os.makedirs(os.path.join(folder_root, 'test', folder))\n",
    "        os.rename(source, target)\n",
    "\n",
    "print(f'There are {male_cnt} male images.')\n",
    "print(f'There are {female_cnt} female images.')\n",
    "print(f'There are {train_images} train images.')\n",
    "print(f'There are {test_images} test images.')"
   ]
  },
  {
   "cell_type": "code",
   "execution_count": null,
   "metadata": {
    "id": "SV9ULnfebDV_"
   },
   "outputs": [],
   "source": [
    "!mkdir -p ./face_gender_dataset/train\n",
    "!mkdir -p ./face_gender_dataset/test\n",
    "os.rename('./gender_dataset/train', './face_gender_dataset/train')\n",
    "os.rename('./gender_dataset/test', './face_gender_dataset/test')"
   ]
  },
  {
   "cell_type": "markdown",
   "metadata": {
    "id": "EEF-bLZieN3k"
   },
   "source": [
    "#### <b>Save Processed Dataset</b>"
   ]
  },
  {
   "cell_type": "code",
   "execution_count": null,
   "metadata": {
    "id": "4AJbOdjZd4Qq"
   },
   "outputs": [],
   "source": [
    "%%capture\n",
    "!zip -r facial_identity_dataset.zip ./facial_identity_dataset/\n",
    "!zip -r face_gender_dataset.zip ./face_gender_dataset/"
   ]
  }
 ],
 "metadata": {
  "colab": {
   "authorship_tag": "ABX9TyMy8G3IL+8++WTZ/K7SQBqo",
   "collapsed_sections": [],
   "name": "CelebAMask HQ Dataset Processing",
   "provenance": []
  },
  "kernelspec": {
   "display_name": "dh",
   "language": "python",
   "name": "dh"
  },
  "language_info": {
   "codemirror_mode": {
    "name": "ipython",
    "version": 3
   },
   "file_extension": ".py",
   "mimetype": "text/x-python",
   "name": "python",
   "nbconvert_exporter": "python",
   "pygments_lexer": "ipython3",
   "version": "3.8.10"
  }
 },
 "nbformat": 4,
 "nbformat_minor": 4
}
